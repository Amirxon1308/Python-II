{
 "cells": [
  {
   "cell_type": "markdown",
   "metadata": {},
   "source": [
    "# Python dasturlash tilida Control Flow (If-else) va Looplar"
   ]
  },
  {
   "cell_type": "markdown",
   "metadata": {},
   "source": [
    "Python dasturlash tilida flow control bu qaysi kod va kod bo'limlarining shartlarga ko'ra amalga oshishi \n",
    "Flow control statmentlari 3 ta asosiy turga bo'linadi\n",
    "1.Conditional statements\n",
    "2.Iterative Statementlar\n",
    "3.Transfer statementlar"
   ]
  },
  {
   "attachments": {
    "image.png": {
     "image/png": "[encoded data removed]"
    }
   },
   "cell_type": "markdown",
   "metadata": {},
   "source": [
    "![image.png](attachment:image.png)"
   ]
  },
  {
   "cell_type": "markdown",
   "metadata": {},
   "source": [
    "## Conditional Statement"
   ]
  },
  {
   "cell_type": "code",
   "execution_count": 1,
   "metadata": {},
   "outputs": [],
   "source": [
    "#Python dasturlash tilida berilgan shartlarning to'g'ri yoki notog'riligiga qarab bajariladigan natijalar mavjud\n",
    "#bular conditional statement deb ataladi.\n",
    "#Shartga ko'ra turli kodlarning blokidan turlicha natija chiqib keladi.\n",
    "#shartlar doim to'g'ri yoki noto'g'ri shaklda baholanadi\n",
    "# Pythonda 4 ta turdagi conditional statementlar mavjud:\n",
    "# 1. if \n",
    "# 2. if-else\n",
    "# 3. if-elif-else\n",
    "# 4. nested if-else\n",
    "\n"
   ]
  },
  {
   "cell_type": "markdown",
   "metadata": {},
   "source": [
    "1. IF control stementlarning eng oddiy shakli. Shartga ko'ra natijani True yoki false sifatida tekshiradi. \n",
    "Agar shart True bo'lsa kod ishga tushadi va agar FALSE bo'lsa kod bloki bajarilmaydi. \n",
    "yozilish tartibi \n",
    "\n",
    "if condition:\n",
    "    statement 1\n",
    "    statement 2\n",
    "    statement 3\n",
    "    statement n\n",
    "    \n"
   ]
  },
  {
   "attachments": {
    "image.png": {
     "image/png": "[encoded data removed]"
    }
   },
   "cell_type": "markdown",
   "metadata": {},
   "source": [
    "![image.png](attachment:image.png)"
   ]
  },
  {
   "cell_type": "code",
   "execution_count": 4,
   "metadata": {},
   "outputs": [
    {
     "name": "stdout",
     "output_type": "stream",
     "text": [
      "36\n",
      "Kodning keyingi qadamlari\n"
     ]
    }
   ],
   "source": [
    "raqam =6\n",
    "\n",
    "if raqam > 5:\n",
    "    print(raqam * raqam)\n",
    "    \n",
    "print(\"Kodning keyingi qadamlari\")"
   ]
  },
  {
   "cell_type": "markdown",
   "metadata": {},
   "source": [
    "if-else stementida if sharti bajariladi agar birinchi shart tog'ri bo'lsa, agar false bo'lsa else bajariladi. \n",
    "\n",
    "if condition:\n",
    "    statement 1\n",
    "else:\n",
    "    statement 2"
   ]
  },
  {
   "attachments": {
    "image.png": {
     "image/png": "[encoded data removed]"
    }
   },
   "cell_type": "markdown",
   "metadata": {},
   "source": [
    "![image.png](attachment:image.png)"
   ]
  },
  {
   "cell_type": "code",
   "execution_count": 7,
   "metadata": {},
   "outputs": [
    {
     "name": "stdout",
     "output_type": "stream",
     "text": [
      "Parolni kiriting: 123456789\n",
      "To'g'ri parol kiritildi\n"
     ]
    }
   ],
   "source": [
    "parol = input(\"Parolni kiriting: \")\n",
    "\n",
    "if parol == \"123456789\":\n",
    "    print(\"To'g'ri parol kiritildi!!!\")\n",
    "else: \n",
    "    print(\"Noto'g'ri parol kiritildi!!!\")"
   ]
  },
  {
   "cell_type": "markdown",
   "metadata": {},
   "source": [
    "if-elif-else yordamida turli shartlarni birma bir tekshirishimiz va bitta shart bajarilishi\n",
    "bilan shu shart bajarilgandagi natija chop etiladi\n",
    "\n",
    "if condition-1:  \n",
    "     statement 1 \n",
    "elif condition-2:\n",
    "     stetement 2 \n",
    "elif condition-3:\n",
    "     stetement 3 \n",
    "     ...         \n",
    "else:            \n",
    "     statement "
   ]
  },
  {
   "cell_type": "code",
   "execution_count": 1,
   "metadata": {},
   "outputs": [
    {
     "name": "stdout",
     "output_type": "stream",
     "text": [
      "Admin\n",
      "Programmer\n",
      "Mehmon\n",
      "Notog'ri tanlov\n"
     ]
    }
   ],
   "source": [
    "def role_check(tanlov):\n",
    "    \n",
    "    if tanlov == 1:\n",
    "        print (\"Admin\")\n",
    "        \n",
    "    elif tanlov == 2:\n",
    "        print(\"Programmer\")\n",
    "        \n",
    "    elif tanlov == 3:\n",
    "        print(\"Mehmon\")\n",
    "        \n",
    "    else:\n",
    "        print(\"Notog'ri tanlov\")\n",
    "        \n",
    "role_check(1)\n",
    "role_check(2)\n",
    "role_check(3)\n",
    "role_check(4)"
   ]
  },
  {
   "cell_type": "raw",
   "metadata": {},
   "source": [
    "Nested of if else - ichma ich else iflar\n",
    "\n",
    "if tashqi_shart:\n",
    "    if ichki_shart:\n",
    "        ichki if ning statementni\n",
    "    else:\n",
    "        ichki statement else:\n",
    "    tashqi shart if\n",
    "else:\n",
    "    Tashqi else \n",
    "if blokidan tashqi statement"
   ]
  },
  {
   "cell_type": "code",
   "execution_count": 3,
   "metadata": {},
   "outputs": [
    {
     "name": "stdout",
     "output_type": "stream",
     "text": [
      "Birinchi sonni kiritish: 14\n",
      "Ikkinchi sonni kiritish: 14\n",
      "14 == 14\n"
     ]
    }
   ],
   "source": [
    "# ikkita son orasidan kattaroq raqamni aniqlash\n",
    "\n",
    "son1 = int(input('Birinchi sonni kiritish: '))\n",
    "son2 = int(input('Ikkinchi sonni kiritish: '))\n",
    "\n",
    "if son1 >= son2:\n",
    "    if son1 == son2:\n",
    "        print(son1, '==', son2)\n",
    "    else:\n",
    "        print(son1, ' >', son2)\n",
    "else: \n",
    "    print(son1, ' <', son2)"
   ]
  },
  {
   "cell_type": "markdown",
   "metadata": {},
   "source": [
    "# Sikllar - Looplar"
   ]
  },
  {
   "cell_type": "raw",
   "metadata": {},
   "source": [
    "Python dasturlash tilida ikki xil sikl ishlatiladi. Bular while va for sikllari. Ularning qulayligi \n",
    "shundaki, ular belgilangan nuqtaga yetmaguncha ko’rsatilgan amalni qayta-qayta bajaraveradi. Shu \n",
    "sababli biz bir amalni qayta-qayta yozib o’tirmaymiz. "
   ]
  },
  {
   "cell_type": "markdown",
   "metadata": {},
   "source": [
    "### While Loop"
   ]
  },
  {
   "cell_type": "raw",
   "metadata": {},
   "source": [
    "while sikliga odatda bir shart berish kerak bo’ladi va o’sha shart bajarilmaguncha u biz ko’rsatgan \n",
    "amalni qayta-qayta bajaraveradi. while sikli quyidagi umumiy ko`rinishga ega\n",
    "\n",
    "while(shart):\n",
    "    statement"
   ]
  },
  {
   "attachments": {
    "image.png": {
     "image/png": "[encoded data removed]"
    }
   },
   "cell_type": "markdown",
   "metadata": {},
   "source": [
    "![image.png](attachment:image.png)"
   ]
  },
  {
   "attachments": {
    "image.png": {
     "image/png": "[encoded data removed]"
    }
   },
   "cell_type": "markdown",
   "metadata": {},
   "source": [
    "![image.png](attachment:image.png)"
   ]
  },
  {
   "cell_type": "raw",
   "metadata": {},
   "source": [
    " Agar (shart) rost (true) qiymatga ega bo`lsa, sikl_tanasi bajariladi. \n",
    "Qachonki shart yolg`on (false) qiymatga teng bo`lsa sikl tugatiladi.\n",
    "Agar (shart) true qiymatga ega bo`lmasa sikl tanasi biror marta ham bajarilmaydi."
   ]
  },
  {
   "cell_type": "raw",
   "metadata": {},
   "source": [
    "Masalan 1 da 10 gacha bo’lgan sonlarni ekranga chiqarishimiz kerak bo’lsa, buni quyidagicha \n",
    "amalga oshiramiz: \n",
    "Avval, boshlang’ich nuqtani belgilaymiz, ya’ni o’zgaruvchi 1 ga teng bo’ladi. So’ngra shunday \n",
    "shart beramizki toki o’sha shart o’zgaruvchi 11 dan kichik ekan, uni har safar ekranga chiqarib shu \n",
    "songa 1 ni qo’shib ketaversin. Natijada o’zgaruvchimiz toki 10 ga yetguncha ushbu amalni \n",
    "bajaraveradi. 11 ga yetganda esa shart bajarilmay qoladi va sikl to’xtaydi."
   ]
  },
  {
   "cell_type": "code",
   "execution_count": 12,
   "metadata": {},
   "outputs": [
    {
     "name": "stdout",
     "output_type": "stream",
     "text": [
      "1\n",
      "2\n",
      "3\n",
      "4\n",
      "5\n",
      "6\n",
      "7\n",
      "8\n",
      "9\n",
      "10\n"
     ]
    }
   ],
   "source": [
    "i = 1\n",
    "while i < 11:\n",
    "    print(i)\n",
    "    i+=1\n",
    "    "
   ]
  },
  {
   "cell_type": "markdown",
   "metadata": {},
   "source": [
    "break kalit so’zi siklni to’xtatadi. Asosiy sikl davom etayotgan bo’lsa ham, biz belgilagan \n",
    "nuqtada siklni to’xtatadi. Masalan yuqoridagi misolni olamiz. Uni shunday o’zgartiramizki, \n",
    "o’zgaruvchimizning qiymati 5 ga yetganda sikl to’xtaydi va qolgan sonlarni ekranga chiqarmaydi"
   ]
  },
  {
   "cell_type": "code",
   "execution_count": 15,
   "metadata": {},
   "outputs": [
    {
     "name": "stdout",
     "output_type": "stream",
     "text": [
      "1\n",
      "2\n",
      "3\n",
      "4\n",
      "5\n"
     ]
    }
   ],
   "source": [
    "i = 1\n",
    "while i < 11:\n",
    "    print(i)\n",
    "    if i == 5:\n",
    "        break\n",
    "    i+=1"
   ]
  },
  {
   "cell_type": "raw",
   "metadata": {},
   "source": [
    "continue kalit so’zi bilan siklning ba’zi nuqtalaridan sakrab o’tish mumkin. Masalanm biz 6 dan \n",
    "tashqari 1 dan 10 gacha bo’lgan sonlarni ekranga chiqaramiz. Bunda 6 soni hisobga olinmay undan \n",
    "o’tib ketiladi:"
   ]
  },
  {
   "cell_type": "code",
   "execution_count": 2,
   "metadata": {},
   "outputs": [
    {
     "name": "stdout",
     "output_type": "stream",
     "text": [
      "2\n",
      "3\n",
      "4\n",
      "5\n",
      "7\n",
      "8\n",
      "9\n",
      "10\n",
      "11\n"
     ]
    }
   ],
   "source": [
    "i = 1\n",
    "while i < 11:\n",
    "    i+=1\n",
    "    if i == 6:\n",
    "        continue\n",
    "    print(i)"
   ]
  },
  {
   "cell_type": "raw",
   "metadata": {},
   "source": [
    "else kalit so’zi sikl to’xtagandan so’ng ham yan bir amal bajarish imkoni beradi. Masalan, sikl \n",
    "to’xtgandan so’ng to’xtaganligi haqida ma’lumot ekranga chiqsin:\n"
   ]
  },
  {
   "cell_type": "code",
   "execution_count": 4,
   "metadata": {},
   "outputs": [
    {
     "name": "stdout",
     "output_type": "stream",
     "text": [
      "1\n",
      "2\n",
      "3\n",
      "4\n",
      "5\n",
      "6\n",
      "7\n",
      "8\n",
      "9\n",
      "10\n",
      "sikl to'xtadi\n"
     ]
    }
   ],
   "source": [
    "i = 1\n",
    "while i < 11:\n",
    "     print(i)\n",
    "     i+=1\n",
    "else:\n",
    "     print(\"sikl to'xtadi\")\n"
   ]
  },
  {
   "cell_type": "code",
   "execution_count": 5,
   "metadata": {},
   "outputs": [
    {
     "name": "stdout",
     "output_type": "stream",
     "text": [
      "10 va 20 o'rtasidagi ixtiyoriy sonni kiriting: 9\n",
      "Noto'g'ri son, iltimos to'g'ri son kiriting: \n",
      "10 va 20 o'rtasidagi ixtiyoriy sonni kiriting: 7\n",
      "Noto'g'ri son, iltimos to'g'ri son kiriting: \n",
      "10 va 20 o'rtasidagi ixtiyoriy sonni kiriting: 5\n",
      "Noto'g'ri son, iltimos to'g'ri son kiriting: \n",
      "10 va 20 o'rtasidagi ixtiyoriy sonni kiriting: 11\n",
      "Kiritilgan son to'g'ri 11\n"
     ]
    }
   ],
   "source": [
    "son = int(input(\"10 va 20 o'rtasidagi ixtiyoriy sonni kiriting: \"))\n",
    "\n",
    "while son < 10 or son > 20:\n",
    "    print(\"Noto'g'ri son, iltimos to'g'ri son kiriting: \")\n",
    "    son = int(input(\"10 va 20 o'rtasidagi ixtiyoriy sonni kiriting: \"))\n",
    "else:\n",
    "    print(\"Kiritilgan son to'g'ri:\", son)"
   ]
  },
  {
   "cell_type": "code",
   "execution_count": 8,
   "metadata": {},
   "outputs": [
    {
     "name": "stdout",
     "output_type": "stream",
     "text": [
      "Iltimos son kiriting: 5\n",
      "5  toq son\n",
      "4  juft son\n",
      "3  toq son\n",
      "2  juft son\n",
      "1  toq son\n"
     ]
    }
   ],
   "source": [
    "# Kiritlgan son va 1 o'rtasidagi juft va toq sonlarni topish\n",
    "\n",
    "n = int(input('Iltimos son kiriting: '))\n",
    "\n",
    "while n>0:\n",
    "        if n % 2 == 0:\n",
    "            print(n, ' juft son')\n",
    "        else: \n",
    "            print(n, ' toq son')\n",
    "        n = n - 1\n",
    "        \n"
   ]
  },
  {
   "cell_type": "markdown",
   "metadata": {},
   "source": [
    "### For Loop"
   ]
  },
  {
   "cell_type": "raw",
   "metadata": {},
   "source": [
    "Python dasturlash tilida for operatori C va Paskal dasturlash tillarida qo`llanishidan farq qiladi. \n",
    "Python da for operatori biroz murakkabroq, lekin while sikliga qaraganda ancha tezroq bajariladi. \n",
    "For…in operatori obyektlar ketma-ketligida iteratsiyani amalga oshiradi, ya’ni bu sikl har qanday \n",
    "iteratsiya qilinadigan obyekt bo`ylab o`tadi(satr yoki ro`yxat bo`ylab) va har bir o`tish vaqtida sikl \n",
    "tanasini bajaradi"
   ]
  },
  {
   "cell_type": "raw",
   "metadata": {},
   "source": [
    "Python dasturlash tilida for sikli asosan to’plam va ro’yxatlar bilan ishlatiladi. For sikli bilan \n",
    "to’plam yoki ro’yxatning har bir elementiga murojaat qilish mumkin. Masalan, quyidagi \n",
    "ro’yxatning har bir elementini ekranga chiqaramiz:"
   ]
  },
  {
   "cell_type": "code",
   "execution_count": 13,
   "metadata": {},
   "outputs": [
    {
     "name": "stdout",
     "output_type": "stream",
     "text": [
      "olma\n",
      "anor\n",
      "banan\n"
     ]
    }
   ],
   "source": [
    "meva = [\"olma\", \"anor\", \"banan\"]\n",
    "\n",
    "for x in meva:\n",
    "    print(x)"
   ]
  },
  {
   "cell_type": "code",
   "execution_count": 14,
   "metadata": {},
   "outputs": [
    {
     "name": "stdout",
     "output_type": "stream",
     "text": [
      "P\n",
      "y\n",
      "t\n",
      "h\n",
      "o\n",
      "n\n"
     ]
    }
   ],
   "source": [
    "#satr bo'yicha sikl\n",
    "\n",
    "for a in \"Python\":\n",
    "    print(a)"
   ]
  },
  {
   "cell_type": "raw",
   "metadata": {},
   "source": [
    "break kalit so’zi bilan siklni to’xtatamiz, hattoki sikl to’xtamagan bo’lsa ham. Masalan, “dastur” \n",
    "so’zining harflarini birma-bir ekranga chiqarish siklini ishga tushuramiz va “s” harfiga yetganda \n",
    "siklni to’xtatamiz:"
   ]
  },
  {
   "cell_type": "code",
   "execution_count": 17,
   "metadata": {},
   "outputs": [
    {
     "name": "stdout",
     "output_type": "stream",
     "text": [
      "d\n",
      "a\n",
      "s\n"
     ]
    }
   ],
   "source": [
    "for a in \"dastur\":\n",
    "    print(a)\n",
    "    if a == \"s\":\n",
    "        break"
   ]
  },
  {
   "cell_type": "raw",
   "metadata": {},
   "source": [
    "Endi e’tiborimizda bir narsaga qaratsak. Yuqoridagi kodda print buyrug’i break buyrug’idan \n",
    "oldinroq qo’ygan edik. Shu sababli avval “s” harfi ekranga chiqib, so’ng sikl to’xtadi. Endi print \n",
    "buyrug’ini pastroqqa qo’yamiz. Bunda “s” harfi ekranga chiqmay qoladi, chunki sikl undan \n",
    "avvalroq to’xtaydi. "
   ]
  },
  {
   "cell_type": "code",
   "execution_count": 18,
   "metadata": {},
   "outputs": [
    {
     "name": "stdout",
     "output_type": "stream",
     "text": [
      "d\n",
      "a\n"
     ]
    }
   ],
   "source": [
    "for a in \"dastur\":\n",
    "    if a == \"s\":\n",
    "        break\n",
    "    print(a)"
   ]
  },
  {
   "cell_type": "markdown",
   "metadata": {},
   "source": [
    "continue kalit so’zi siklning ayrim joylaridan sakrab o’tadi. Aniqroq qilib aytganda sikl \n",
    "davomida ayrim nuqtalarga kelganda ko’rsatilgan amalni bajarmay ketadi. \n",
    "Masalan, “python” so’zidagi harflarni ekranga chiqaramiz va shunda “h” harfini tashlab ketamiz:\n"
   ]
  },
  {
   "cell_type": "code",
   "execution_count": 19,
   "metadata": {},
   "outputs": [
    {
     "name": "stdout",
     "output_type": "stream",
     "text": [
      "p\n",
      "y\n",
      "t\n",
      "o\n",
      "n\n"
     ]
    }
   ],
   "source": [
    "for a in \"python\":\n",
    "    if a == 'h':\n",
    "        continue\n",
    "    print(a)"
   ]
  },
  {
   "cell_type": "raw",
   "metadata": {},
   "source": [
    "range() funksiyasi biror amalni belgilangan marta bajarish yoki biror oraliqdagi sonlarga murojaat \n",
    "qilsh uchun qo’llaniladi. Bunda range() ichiga kerakli son qo’yiladi va sanoq avtomatik tarzda o \n",
    "dan boshlanib ko’rsatilgan songacha davom etadi. Ammo uning o’zi hisobga kirmaydi. \n"
   ]
  },
  {
   "cell_type": "code",
   "execution_count": 21,
   "metadata": {},
   "outputs": [
    {
     "name": "stdout",
     "output_type": "stream",
     "text": [
      "0\n",
      "1\n",
      "2\n",
      "3\n",
      "4\n"
     ]
    }
   ],
   "source": [
    "for x in range(5):\n",
    "    print(x)\n"
   ]
  },
  {
   "cell_type": "raw",
   "metadata": {},
   "source": [
    "Yuqorida biz range() funksiyasida sanoq avtomatik 0 dan boshlanishini aytib o’tdik. Biz uni \n",
    "o’zimiz istagan sondan boshlashimiz ham mumkin.\n",
    "Masalan 1 dan 5 gacha bo’lgan sonlarni ekranga chiqaramiz. Bunda sanoq 1 dan boshlanishi uchun \n",
    "1 sonini ham kiritamiz. Demak, biz 1 dan 6 gacha bo’lgan oraliqni kiritamiz:"
   ]
  },
  {
   "cell_type": "code",
   "execution_count": 22,
   "metadata": {},
   "outputs": [
    {
     "name": "stdout",
     "output_type": "stream",
     "text": [
      "1\n",
      "2\n",
      "3\n",
      "4\n",
      "5\n"
     ]
    }
   ],
   "source": [
    "for x in range(1,6):\n",
    "    print(x)"
   ]
  },
  {
   "cell_type": "raw",
   "metadata": {},
   "source": [
    "range() funksiyasida sonlar avtomatik bittaga ortib boradi. Ammo bu holatni ham o’zgartirish \n",
    "mumkin. Bunda oraliqni ko’rsatgandan so’ng sanoq nechtaga ortishini ham kiritamiz. Shunda \n",
    "funksiya ichidagi dastlabki ikkita son oraliqni, uchinchi son esa sanoq nechtaga ortiqshini \n",
    "ko’rsatadi."
   ]
  },
  {
   "cell_type": "raw",
   "metadata": {},
   "source": [
    "Masalan, 1 dan 10 gacha bo’lgan faqat juft sonlarni ekranga chiqarmoqchimiz. Bunda oraliqni 2 \n",
    "dan 11 gacha deb belgilaymiz. Shunda sanoq 2 dan boshlanadi va 10 gacha davom etadi. Har safar \n",
    "sanoq ikkitaga ortishi uchun uchinchi bo’lib 2 soni kiritamiz:"
   ]
  },
  {
   "cell_type": "code",
   "execution_count": 23,
   "metadata": {},
   "outputs": [
    {
     "name": "stdout",
     "output_type": "stream",
     "text": [
      "2\n",
      "4\n",
      "6\n",
      "8\n",
      "10\n"
     ]
    }
   ],
   "source": [
    "for x in range (2, 11, 2):\n",
    "    print(x)"
   ]
  },
  {
   "cell_type": "raw",
   "metadata": {},
   "source": [
    "else kalit so’zi sikl tugagach ham yan bir amal bajarish imkonini beradi. Odatda bundan sikl \n",
    "tugagani haqida ma’lumot berishda foydalaniladi. \n",
    "Masalan, “python” so’zini besh marta ekranga chiqarmoqchimiz va sikl tugagach shu haqida xabar \n",
    "beramiz. Bunda endi e’tibor bering, range() funksiyasi bilan sanoq asosida sonlarni ekranga \n",
    "chiqarmayapmiz, balki shuncha marta bir xil amalni bajaryapmiz:"
   ]
  },
  {
   "cell_type": "code",
   "execution_count": 24,
   "metadata": {},
   "outputs": [
    {
     "name": "stdout",
     "output_type": "stream",
     "text": [
      "python\n",
      "python\n",
      "python\n",
      "python\n",
      "python\n",
      "\n",
      "Sikl tugadi!\n"
     ]
    }
   ],
   "source": [
    "for x in range(5):\n",
    "    print(\"python\")\n",
    "else:\n",
    "    print(\"\\nSikl tugadi!\")"
   ]
  },
  {
   "cell_type": "code",
   "execution_count": 25,
   "metadata": {},
   "outputs": [
    {
     "name": "stdout",
     "output_type": "stream",
     "text": [
      "qora Spark\n",
      "qora Nexia\n",
      "qora Lacetti\n",
      "oq Spark\n",
      "oq Nexia\n",
      "oq Lacetti\n",
      "qizil Spark\n",
      "qizil Nexia\n",
      "qizil Lacetti\n"
     ]
    }
   ],
   "source": [
    "#sikl ichida sikni e'lon qilish\n",
    "\n",
    "rang = [\"qora\", \"oq\", \"qizil\"]\n",
    "mashina = [\"Spark\", \"Nexia\", \"Lacetti\"]\n",
    "\n",
    "for x in rang:\n",
    "     for y in mashina:\n",
    "             print(x,y)\n"
   ]
  },
  {
   "cell_type": "code",
   "execution_count": 26,
   "metadata": {},
   "outputs": [],
   "source": [
    "#pass statementi orqali sikl bajarishi lozim bo'lgan amalni kiritmagan yoki hech narsa bajarishi kerakligini ko'rsatmoqchi bo'lsak\n",
    "#foydalanishimiz mumkin\n",
    "\n",
    "for x in range(5):\n",
    "    pass "
   ]
  },
  {
   "cell_type": "code",
   "execution_count": null,
   "metadata": {},
   "outputs": [],
   "source": []
  }
 ],
 "metadata": {
  "kernelspec": {
   "display_name": "Python 3",
   "language": "python",
   "name": "python3"
  },
  "language_info": {
   "codemirror_mode": {
    "name": "ipython",
    "version": 3
   },
   "file_extension": ".py",
   "mimetype": "text/x-python",
   "name": "python",
   "nbconvert_exporter": "python",
   "pygments_lexer": "ipython3",
   "version": "3.8.3"
  }
 },
 "nbformat": 4,
 "nbformat_minor": 4
}
